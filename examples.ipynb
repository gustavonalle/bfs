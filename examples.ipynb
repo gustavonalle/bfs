{
 "cells": [
  {
   "cell_type": "markdown",
   "metadata": {
    "collapsed": true
   },
   "source": [
    "# Bfs (Bitcoin from scratch) library examples"
   ]
  },
  {
   "cell_type": "markdown",
   "metadata": {},
   "source": [
    "## Create v1 Addresses"
   ]
  },
  {
   "cell_type": "code",
   "execution_count": null,
   "metadata": {},
   "outputs": [],
   "source": [
    "from lib.elliptic import *\n",
    "from lib.address import *\n",
    "\n",
    "# Create a random compressed private key\n",
    "priv_key = PrivateKey()\n",
    "print(\"Private Key: \", priv_key.value())\n",
    "\n",
    "pub_key = Curve().pub_key(priv_key)\n",
    "print(pub_key)\n",
    "\n",
    "# Create Hash160 from compressed pub key\n",
    "hash160 = pub_key.hash160()\n",
    "print(f\"Hash160: {hash160.hex()}\")\n",
    "\n",
    "# Create V1 Address for main net\n",
    "addressv1 = AddressV1(hash160, Network.MAIN_NET)\n",
    "\n",
    "# Create V1 Address for testnet\n",
    "addressv1 = AddressV1(hash160, Network.TEST_NET)\n",
    "\n",
    "print(f\"Address (v1): {addressv1}\")"
   ]
  },
  {
   "cell_type": "markdown",
   "metadata": {},
   "source": [
    "# Spend P2PKH (Pay to public key hash) output with change:"
   ]
  },
  {
   "cell_type": "code",
   "execution_count": null,
   "metadata": {},
   "outputs": [],
   "source": [
    "from lib.keys import PrivateKey\n",
    "from lib.spender import Spender, Utxo, Destination\n",
    "\n",
    "# Existing private key, in numeric format\n",
    "private_key = 0x0111111\n",
    "\n",
    "# Transaction hash of the output to be spent, string format\n",
    "utxo_tx_hash = \"fedcf6dfb752deadbb5f5407538e0dfec0c3e14927c3b46592811ba584fabd11\"\n",
    "\n",
    "# The zero based index of the output to be spent\n",
    "utxo_index = 1\n",
    "\n",
    "# The address of the output holding unspent funds\n",
    "utxo_address = \"msAP1h4Bv9mar7hSXM9d27adwHeuvotixB\"\n",
    "\n",
    "# The amount in BTC available in the output\n",
    "utxo_amount_btc = 1.21716322\n",
    "\n",
    "# Recipient of the funds\n",
    "receiver = \"mzDUHce6H8RAyXW8GCioV8UtiYyvA3mEqE\"\n",
    "\n",
    "# Amount to send in BTC\n",
    "amount = 1\n",
    "\n",
    "# Fee in BTC\n",
    "fee = 0.0002\n",
    "\n",
    "# Change address\n",
    "change = \"msAP1h4Bv9mar7hSXM9d27adwHeuvotixB\"\n",
    "\n",
    "pk = PrivateKey(private_key)\n",
    "\n",
    "spender = Spender()\n",
    "\n",
    "utxo = Utxo(utxo_tx_hash, utxo_index, utxo_address, utxo_amount_btc)\n",
    "\n",
    "send_to = Destination(amount, receiver)\n",
    "\n",
    "change = Destination(utxo_amount_btc - amount - fee, change)\n",
    "\n",
    "spender.add_utxos(utxo)\n",
    "spender.add_destinations(send_to, change)\n",
    "\n",
    "spend_tx = spender.create_p2pkh_tx(pk)\n",
    "\n",
    "print(f\"Signed Transaction: {spend_tx.hex()}\")\n"
   ]
  },
  {
   "cell_type": "code",
   "execution_count": null,
   "metadata": {},
   "outputs": [],
   "source": []
  }
 ],
 "metadata": {
  "kernelspec": {
   "display_name": "Python 3",
   "language": "python",
   "name": "python3"
  },
  "language_info": {
   "codemirror_mode": {
    "name": "ipython",
    "version": 3
   },
   "file_extension": ".py",
   "mimetype": "text/x-python",
   "name": "python",
   "nbconvert_exporter": "python",
   "pygments_lexer": "ipython3",
   "version": "3.6.4"
  }
 },
 "nbformat": 4,
 "nbformat_minor": 1
}
