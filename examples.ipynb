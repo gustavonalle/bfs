{
 "cells": [
  {
   "cell_type": "markdown",
   "metadata": {
    "collapsed": true
   },
   "source": [
    "# Bfs (Bitcoin from scratch) library examples"
   ]
  },
  {
   "cell_type": "markdown",
   "metadata": {},
   "source": [
    "## Create v1 Addresses"
   ]
  },
  {
   "cell_type": "code",
   "execution_count": null,
   "metadata": {},
   "outputs": [],
   "source": [
    "from lib.commons import Network\n",
    "from lib.keys import PrivateKey\n",
    "\n",
    "# Create a random private key\n",
    "priv_key = PrivateKey()\n",
    "print(\"Private Key: \", priv_key.key)\n",
    "\n",
    "pub_key = priv_key.create_pub_key()\n",
    "print(f\"Public key: {pub_key}\")\n",
    "\n",
    "# Create V1 Address for main net\n",
    "address_main_net = pub_key.get_address_v1(Network.MAIN_NET)\n",
    "print(f\"Address (MainNet): {address_main_net}\")\n",
    "\n",
    "# Create V1 Address for testnet\n",
    "address_test_net = pub_key.get_address_v1(Network.TEST_NET)\n",
    "\n",
    "print(f\"Address (TestNet): {address_test_net}\")"
   ]
  },
  {
   "cell_type": "markdown",
   "metadata": {},
   "source": [
    "# Create Segwit native address (Bech32)"
   ]
  },
  {
   "cell_type": "code",
   "execution_count": null,
   "metadata": {},
   "outputs": [],
   "source": [
    "from lib.commons import Network\n",
    "from lib.keys import PrivateKey\n",
    "\n",
    "# Create a random private key\n",
    "priv_key = PrivateKey()\n",
    "print(\"Private Key: \", priv_key.key)\n",
    "\n",
    "pub_key = priv_key.create_pub_key()\n",
    "print(f\"Public key: {pub_key}\")\n",
    "\n",
    "# Create a bech32 Address for main net\n",
    "address_main_net = pub_key.get_segwit_address(Network.MAIN_NET)\n",
    "print(f\"Address (MainNet): {address_main_net}\")\n"
   ]
  },
  {
   "cell_type": "markdown",
   "metadata": {},
   "source": [
    "# Create Segwit native address from WIF"
   ]
  },
  {
   "cell_type": "code",
   "execution_count": null,
   "metadata": {},
   "outputs": [],
   "source": [
    "from lib.commons import Network\n",
    "from lib.keys import PrivateKey\n",
    "\n",
    "priv_key = PrivateKey.from_wif(\"LVXZa6CbScCsSxoHHEkb23cstcvrfZMLFws7Px2BBa8atj4vabN9\")\n",
    "\n",
    "pub_key = priv_key.create_pub_key()\n",
    "\n",
    "# Create a bech32 Address for main net\n",
    "address_main_net = pub_key.get_segwit_address(Network.MAIN_NET)\n",
    "print(f\"Address (MainNet): {address_main_net}\")"
   ]
  },
  {
   "cell_type": "markdown",
   "metadata": {},
   "source": [
    "# Spend P2PKH (Pay to public key hash) output with change:"
   ]
  },
  {
   "cell_type": "code",
   "execution_count": null,
   "metadata": {},
   "outputs": [],
   "source": [
    "from lib.keys import PrivateKey\n",
    "from lib.spender import Spender, Utxo, Destination\n",
    "\n",
    "# Existing private key, in numeric format\n",
    "private_key = 0x0111111\n",
    "\n",
    "# Transaction hash of the output to be spent, string format\n",
    "utxo_tx_hash = \"fedcf6dfb752deadbb5f5407538e0dfec0c3e14927c3b46592811ba584fabd11\"\n",
    "\n",
    "# The zero based index of the output to be spent\n",
    "utxo_index = 1\n",
    "\n",
    "# The address of the output holding unspent funds\n",
    "utxo_address = \"msAP1h4Bv9mar7hSXM9d27adwHeuvotixB\"\n",
    "\n",
    "# The amount in BTC available in the output\n",
    "utxo_amount_btc = 1.21716322\n",
    "\n",
    "# Recipient of the funds\n",
    "receiver = \"mzDUHce6H8RAyXW8GCioV8UtiYyvA3mEqE\"\n",
    "\n",
    "# Amount to send in BTC\n",
    "amount = 1\n",
    "\n",
    "# Fee in BTC\n",
    "fee = 0.0002\n",
    "\n",
    "# Change address\n",
    "change = \"msAP1h4Bv9mar7hSXM9d27adwHeuvotixB\"\n",
    "\n",
    "pk = PrivateKey(private_key)\n",
    "\n",
    "spender = Spender()\n",
    "\n",
    "utxo = Utxo(utxo_tx_hash, utxo_index, utxo_address, utxo_amount_btc, pk)\n",
    "\n",
    "send_to = Destination(amount, receiver)\n",
    "\n",
    "change_to = Destination(utxo_amount_btc - amount - fee, change)\n",
    "\n",
    "spender.add_utxos(utxo)\n",
    "spender.add_destinations(send_to, change_to)\n",
    "\n",
    "spend_tx = spender.create_tx()\n",
    "\n",
    "print(f\"Signed Transaction: {spend_tx.hex()}\")\n"
   ]
  },
  {
   "cell_type": "markdown",
   "metadata": {},
   "source": [
    "# Spend P2WPKH (Native Segwit) input"
   ]
  },
  {
   "cell_type": "code",
   "execution_count": null,
   "metadata": {},
   "outputs": [],
   "source": [
    "from lib.keys import PrivateKey\n",
    "from lib.spender import Spender, Utxo, Destination\n",
    "\n",
    "# Existing private key, in numeric format\n",
    "pk = PrivateKey.from_wif(\"cVZiWLak3RfzgFZtLeZ87TKnFwaG1hBgxovNmv9XwmaSSrNLXKp1\")\n",
    "\n",
    "# Transaction hash of the output to be spent, string format\n",
    "utxo_tx_hash = \"b9b72078c53511dfdb80ba91e04696cfe479b320a2dfc17a96be40ce2884a62f\"\n",
    "\n",
    "# The zero based index of the output to be spent\n",
    "utxo_index = 0\n",
    "\n",
    "# The address of the output holding unspent funds\n",
    "utxo_address = \"tb1qfeytr2u0d3e3tny5kyjvjule3srx33eclcx6sy\"\n",
    "\n",
    "# The amount in BTC available in the output\n",
    "utxo_amount_btc = 0.99996220\n",
    "\n",
    "# Recipient of the funds\n",
    "receiver = \"n3WUs6uCpAc1at2u13ZLRQKf8wuqgVdZr4\"\n",
    "\n",
    "# Amount to send in BTC\n",
    "amount = 0.99994220\n",
    "\n",
    "# Fee in BTC\n",
    "fee = 0.00002000\n",
    "\n",
    "spender = Spender()\n",
    "\n",
    "utxo = Utxo(utxo_tx_hash, utxo_index, utxo_address, utxo_amount_btc, pk)\n",
    "\n",
    "send_to = Destination(amount, receiver)\n",
    "\n",
    "spender.add_utxos(utxo)\n",
    "spender.add_destinations(send_to)\n",
    "\n",
    "spend_tx = spender.create_tx()\n",
    "\n",
    "print(f\"Signed Transaction: {spend_tx.hex()}\")"
   ]
  },
  {
   "cell_type": "markdown",
   "metadata": {},
   "source": [
    "# Spend two P2SH(P2WPKH) Inputs"
   ]
  },
  {
   "cell_type": "code",
   "execution_count": null,
   "metadata": {},
   "outputs": [],
   "source": [
    "from lib.keys import PrivateKey\n",
    "from lib.spender import Spender, Utxo, Destination\n",
    "\n",
    "####### First input\n",
    "pk1 = PrivateKey.from_wif(\"cS4JEyLiDxWKUkbvdZSoPEDYmsf8QvtGUgJfoEmvPXw3AWr2xLME\")\n",
    "\n",
    "# Transaction hash of the output related to the first input\n",
    "utxo1_tx_hash = \"36e27ca5c6260260737b40ccd60c844f32c5aebf12b053c9d5132895bf63c191\"\n",
    "\n",
    "# The zero based index of the output related to the first input\n",
    "utxo1_index = 1\n",
    "\n",
    "# The address of the output related to the first input\n",
    "utxo1_address = \"2NE6ZUgczfjp61siNZE1X9urqUDZQcbvkgX\"\n",
    "\n",
    "# The amount in BTC available in the output related to the first input\n",
    "utxo1_amount_btc = 0.11596873\n",
    "\n",
    "# Create the first UTXO\n",
    "utxo1 = Utxo(utxo1_tx_hash, utxo1_index, utxo1_address, utxo1_amount_btc, pk1)\n",
    "\n",
    "######## Second Input\n",
    "pk2 = PrivateKey.from_wif(\"cTrgmEubqR1ycAupUhAPHAZuax9Sm1z9MXnu1yJ2U9QveVJj5dw6\")\n",
    "\n",
    "# Transaction hash of the output related to the second input\n",
    "utxo2_tx_hash = \"36e27ca5c6260260737b40ccd60c844f32c5aebf12b053c9d5132895bf63c191\"\n",
    "\n",
    "# The zero based index of the output related to the second input\n",
    "utxo2_index = 0\n",
    "\n",
    "# The address of the output related to the second input\n",
    "utxo2_address = \"2N3fPnXTv2VhBFJfXjjKhpnywu8DdY2Azs4\"\n",
    "\n",
    "# The amount in BTC available in the output related to the second input\n",
    "utxo2_amount_btc = 0.10000000\n",
    "\n",
    "# Create the second UTXO\n",
    "utxo2 = Utxo(utxo2_tx_hash, utxo2_index, utxo2_address, utxo2_amount_btc, pk2)\n",
    "\n",
    "\n",
    "# Recipient of the funds\n",
    "receiver = \"n3WUs6uCpAc1at2u13ZLRQKf8wuqgVdZr4\"\n",
    "\n",
    "# Fee in BTC\n",
    "fee = 0.00002000\n",
    "\n",
    "spender = Spender()\n",
    "send_to = Destination(utxo1_amount_btc + utxo2_amount_btc - fee, receiver)\n",
    "\n",
    "spender.add_utxos(utxo1, utxo2)\n",
    "spender.add_destinations(send_to)\n",
    "\n",
    "spend_tx = spender.create_tx()\n",
    "\n",
    "print(f\"Signed Transaction: {spend_tx.hex()}\")\n"
   ]
  },
  {
   "cell_type": "markdown",
   "metadata": {},
   "source": [
    "# Dump coins from B2X fork"
   ]
  },
  {
   "cell_type": "code",
   "execution_count": null,
   "metadata": {},
   "outputs": [],
   "source": [
    "from lib.B2XSpender import B2XSpender\n",
    "from lib.keys import PrivateKey\n",
    "from lib.spender import Utxo, Destination\n",
    "\n",
    "# Locate the private key of the address containing funds at the moment of the fork.\n",
    "# B2X fork happened at block 501451\n",
    "pk_wif = \"LAuVNkP5fFhXmvbSkQsNw7se7JqeJfVcm6PSSE332wxQqBXmxhkT\"\n",
    "\n",
    "# The TX hash of the output to spend \n",
    "tx_hash = \"2b34bb178f07d143de91764d4d7d1d2c031975ecf1a7a2a0d4131445a3373b5b\"\n",
    "\n",
    "# The zero-based index of the output in the tx above\n",
    "output_index = 1\n",
    "\n",
    "# The address associated with the output\n",
    "utxo_address = \"bc1qzw60wlzkzz8ae8aqfs2tdek5nkzfy6eemcl8df\"\n",
    "\n",
    "# How much BTC was available at the output\n",
    "utxo_amount = 10\n",
    "\n",
    "# Which B2X address to send funds to\n",
    "destination_address = \"1P7w6ur2WZRceFHTPWMd65P2p8K2mEHEBf\"\n",
    "\n",
    "# Amount in B2X to send. Usually is utxo_amount minus the fee. Ratio is 1:1 with BTC\n",
    "destination_amount = 9.99\n",
    "\n",
    "pk = PrivateKey.from_wif(pk_wif)\n",
    "utxo = Utxo(tx_hash, output_index,utxo_address, utxo_amount, pk)\n",
    "spender = B2XSpender()\n",
    "spender.add_utxos(utxo)\n",
    "spender.add_destinations(Destination(destination_amount, destination_address))\n",
    "tx_hex = spender.create_tx().hex()\n",
    "\n",
    "# Print the transaction\n",
    "print(\"Raw Transaction:\")\n",
    "print(tx_hex)\n",
    "print(\"\\nPaste the TX on https://explorer.b2x-segwit.io/tx/send in order to broadcast it to the B2X network\")"
   ]
  },
  {
   "cell_type": "markdown",
   "metadata": {},
   "source": [
    "# Dump coins from BTN fork"
   ]
  },
  {
   "cell_type": "code",
   "execution_count": null,
   "metadata": {},
   "outputs": [],
   "source": [
    "from lib.BTNSpender import BTNSpender\n",
    "from lib.keys import PrivateKey\n",
    "from lib.spender import Utxo, Destination\n",
    "\n",
    "# Locate the private key of the address containing funds at the moment of the fork.\n",
    "# BTN fork happened at block 5010000\n",
    "pk_wif = \"LVXZa6CbScCsSxoHHEkb23cstcvrfZMLFws7Px2BBa8atj4vabN9\"\n",
    "\n",
    "# The TX hash of the output to spend \n",
    "tx_hash = \"9d5c373c4b0d2b19137b27f192f25b1c73d1f4836d121db215f62fd36df19b5b\"\n",
    "\n",
    "# The zero-based index of the output in the tx above\n",
    "output_index = 4\n",
    "\n",
    "# The address associated with the output\n",
    "utxo_address = \"bc1qpwyczpvdtxfeqhxrk6rdn7k4qe3np7knc5gn47\"\n",
    "\n",
    "# How much BTC was available at the output\n",
    "utxo_amount = 10\n",
    "\n",
    "# Which BTN address to send funds to\n",
    "destination_address = \"1QEr9wGB6kMHDyyMRh4aPZXEh1T7iouZL3\"\n",
    "\n",
    "# Amount in BTN to send. Usually is utxo_amount minus the fee. Ratio is 1:1 with BTC\n",
    "destination_amount = 9.99999100\n",
    "\n",
    "pk = PrivateKey.from_wif(pk_wif)\n",
    "utxo = Utxo(tx_hash, output_index,utxo_address, utxo_amount, pk)\n",
    "spender = BTNSpender()\n",
    "spender.add_utxos(utxo)\n",
    "spender.add_destinations(Destination(destination_amount, destination_address))\n",
    "tx_hex = spender.create_tx().hex()\n",
    "\n",
    "# Print the transaction\n",
    "print(\"Raw Transaction:\")\n",
    "print(tx_hex)"
   ]
  },
  {
   "cell_type": "markdown",
   "metadata": {},
   "source": [
    "# Dump coins from BPA (Bitcoin Pizza) fork"
   ]
  },
  {
   "cell_type": "code",
   "execution_count": null,
   "metadata": {},
   "outputs": [],
   "source": [
    "from lib.bpa import *\n",
    "from lib.keys import PrivateKey\n",
    "from lib.spender import Utxo, Destination\n",
    "\n",
    "# Locate the private key of the address containing funds at the moment of the fork.\n",
    "# BPA fork happened at block 501888\n",
    "pk_wif = \"LDBgLaQF7jdPRFMV6qCqZLwjLAGFaGSTkYhYokBthb99YxYqfoFU\"\n",
    "\n",
    "# The TX hash of the output to spend \n",
    "tx_hash = \"2b052ea59d2c2e1e9dbbbd2b96cfd6ace50ec8d5a566b20a2b022aad1e2331ae\"\n",
    "\n",
    "# The zero-based index of the output in the tx above\n",
    "output_index = 6\n",
    "\n",
    "# The address associated with the output\n",
    "utxo_address = \"bc1q6mrwqd59hvd06xjxx76apfnmpc0sqcz9wxgdy3\"\n",
    "\n",
    "# How much BTC was available at the output\n",
    "utxo_amount = 10\n",
    "\n",
    "# Which BPA address to send funds to\n",
    "destination_address = \"1LadrBqGRUAFnPv9RpJdszfapTE1KC5CDj\"\n",
    "\n",
    "# Amount in B2X to send. Usually is utxo_amount minus the fee. Ratio is 1:1 with BTC\n",
    "destination_amount = 9.995\n",
    "\n",
    "pk = PrivateKey.from_wif(pk_wif)\n",
    "utxo = Utxo(tx_hash, output_index,utxo_address, utxo_amount, pk)\n",
    "spender = BPASpender()\n",
    "spender.add_utxos(utxo)\n",
    "spender.add_destinations(Destination(destination_amount, destination_address))\n",
    "tx_hex = spender.create_tx().hex()\n",
    "\n",
    "# Print the transaction\n",
    "print(\"Raw Transaction:\")\n",
    "print(tx_hex)"
   ]
  },
  {
   "cell_type": "markdown",
   "metadata": {},
   "source": [
    "# Dump coins from BTV (BitVote) fork"
   ]
  },
  {
   "cell_type": "code",
   "execution_count": 10,
   "metadata": {},
   "outputs": [
    {
     "name": "stdout",
     "output_type": "stream",
     "text": [
      "Raw Transaction:\n",
      "0200000001e5f28b6bfe16cb635e59fe308a65ff53484def67b878dd17265e409e9b8e13d4000000006a4730440220577c18ccdcfaa015b2f088d17d5ba87f86210b3555782a4183bd6e9c92369b0a0220212033177c8bd3387d223e587e71760e5bf16ad6b567b49f133d347633842267412103e22330076fb0ec4a3c8fbb675dc989a654c57fbc220be2e2c30a8fb390ecfb3effffffff017c961ad7000000001976a914555923579c1c8fb4dfb2f01f40c576702169351688ac00000000\n",
      "\n",
      "Paste the TX on https://block.bitvote.one/tx/send in order to broadcast it to the BTV network\n"
     ]
    }
   ],
   "source": [
    "from lib.btv import *\n",
    "from lib.keys import PrivateKey\n",
    "from lib.spender import Utxo, Destination\n",
    "\n",
    "\n",
    "pk_wif1 = \"L4q1mCFKhXKA2WgUUuBGdBP4mj4LPWpMd6cDuK9qwfoNYHx84pHz\"\n",
    "tx_hash1 = \"d4138e9b9e405e2617dd78b867ef4d4853ff658a30fe595e63cb16fe6b8bf2e5\"\n",
    "output_index1 = 0\n",
    "utxo_address1 = \"1Nea93SkUEmmK1bLuGktfaTP9xaTb6Z8Bw\"\n",
    "utxo_amount1 = 1.0\n",
    "\n",
    "pk_wif2 = \"L4q1mCFKhXKA2WgUUuBGdBP4mj4LPWpMd6cDuK9qwfoNYHx84pHz\"\n",
    "tx_hash2 = \"d31ccecc9f4dc32981dd62258ccdc93dc2b614c92163d701d0e185b2c557e43e\"\n",
    "output_index2 = 0\n",
    "utxo_address2 = \"1Nea93SkUEmmK1bLuGktfaTP9xaTb6Z8Bw\"\n",
    "utxo_amount2 = 0.19795001\n",
    "\n",
    "pk_wif3 = \"L4q1mCFKhXKA2WgUUuBGdBP4mj4LPWpMd6cDuK9qwfoNYHx84pHz\"\n",
    "tx_hash3 = \"67efbe77d48d2e04fe17b16843cdd194f95d9d5699ab6380cf1effb55a4ac5da\"\n",
    "output_index3 = 0\n",
    "utxo_address3 = \"1Nea93SkUEmmK1bLuGktfaTP9xaTb6Z8Bw\"\n",
    "utxo_amount3 = 1.99899\n",
    "\n",
    "# Which BPA address to send funds to\n",
    "destination_address = \"18nHDj89wVYtQVhgxWgv7DWSaqvUa4yMZm\"\n",
    "\n",
    "# Amount in B2X to send. Usually is utxo_amount minus the fee. Ratio is 1:1 with BTC\n",
    "destination_amount = 1\n",
    "\n",
    "pk1 = PrivateKey.from_wif(pk_wif1)\n",
    "pk2 = PrivateKey.from_wif(pk_wif2)\n",
    "pk3 = PrivateKey.from_wif(pk_wif3)\n",
    "\n",
    "utxo1 = Utxo(tx_hash1, output_index1,utxo_address1, utxo_amount1, pk1)\n",
    "utxo2 = Utxo(tx_hash2, output_index2,utxo_address2, utxo_amount2, pk2)\n",
    "utxo3 = Utxo(tx_hash3, output_index3,utxo_address3, utxo_amount3, pk3)\n",
    "\n",
    "spender = BTVSpender()\n",
    "spender.add_utxos(utxo1)\n",
    "spender.add_destinations(Destination(destination_amount, destination_address))\n",
    "tx_hex = spender.create_tx().hex()\n",
    "\n",
    "# Print the transaction\n",
    "print(\"Raw Transaction:\")\n",
    "print(tx_hex)\n",
    "print(\"\\nPaste the TX on https://block.bitvote.one/tx/send in order to broadcast it to the BTV network\")"
   ]
  },
  {
   "cell_type": "code",
   "execution_count": null,
   "metadata": {},
   "outputs": [],
   "source": []
  }
 ],
 "metadata": {
  "kernelspec": {
   "display_name": "Python 3",
   "language": "python",
   "name": "python3"
  },
  "language_info": {
   "codemirror_mode": {
    "name": "ipython",
    "version": 3
   },
   "file_extension": ".py",
   "mimetype": "text/x-python",
   "name": "python",
   "nbconvert_exporter": "python",
   "pygments_lexer": "ipython3",
   "version": "3.6.4"
  }
 },
 "nbformat": 4,
 "nbformat_minor": 1
}
