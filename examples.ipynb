{
 "cells": [
  {
   "cell_type": "markdown",
   "metadata": {
    "collapsed": true
   },
   "source": [
    "# Bfs (Bitcoin from scratch) library examples"
   ]
  },
  {
   "cell_type": "markdown",
   "metadata": {},
   "source": [
    "## Create v1 Addresses"
   ]
  },
  {
   "cell_type": "code",
   "execution_count": 1,
   "metadata": {
    "collapsed": false
   },
   "outputs": [
    {
     "name": "stdout",
     "output_type": "stream",
     "text": [
      "Private Key:  10450480674312121061970751132001357427789236747408428259335921222467832442917\n",
      "Public Key: (0x2597b31383505675254ff1ee272256cf67413b52f7d2f46a2249a4954f486188, 0x7ad09a532736040671ff7bbf85a419a7e9b01ecdb3298bfb2d429ce1bff43e44)\n",
      "Hash160: 255434fad286bbece74e9a10ad35382e264e5900\n",
      "Address (v1): Address(Network.TEST_NET): mivLAxFMe9sS2QpQo77YhkwgS5dsAj8MVZ\n"
     ]
    }
   ],
   "source": [
    "from lib.elliptic import *\n",
    "from lib.address import *\n",
    "\n",
    "# Create a random compressed private key\n",
    "priv_key = PrivateKey()\n",
    "print(\"Private Key: \", priv_key.value())\n",
    "\n",
    "pub_key = Curve().pub_key(priv_key)\n",
    "print(pub_key)\n",
    "\n",
    "# Create Hash160 from compressed pub key\n",
    "hash160 = pub_key.hash160()\n",
    "print(f\"Hash160: {hash160.hex()}\")\n",
    "\n",
    "# Create V1 Address for main net\n",
    "addressv1 = AddressV1(hash160, Network.MAIN_NET)\n",
    "\n",
    "# Create V1 Address for testnet\n",
    "addressv1 = AddressV1(hash160, Network.TEST_NET)\n",
    "\n",
    "print(f\"Address (v1): {addressv1}\")"
   ]
  },
  {
   "cell_type": "markdown",
   "metadata": {},
   "source": [
    "# Spend P2PKH (Pay to public key hash) output with change:"
   ]
  },
  {
   "cell_type": "code",
   "execution_count": null,
   "metadata": {
    "collapsed": false
   },
   "outputs": [
    {
     "name": "stdout",
     "output_type": "stream",
     "text": [
      "010000000111bdfa84a51b819265b4c32749e1c3c0fe0d8e5307545fbbadde52b7dff6dcfe010000001976a9147fbd685c68ae2f71a36566fd59a3a7752225be8f88acffffffff0200e1f505000000001976a914cd1bf06291d1b6a2d4ed70465802c8e50b39ece588ac420f4b01000000001976a9147fbd685c68ae2f71a36566fd59a3a7752225be8f88ac0000000001000000\n",
      "Signed Transaction: 010000000111bdfa84a51b819265b4c32749e1c3c0fe0d8e5307545fbbadde52b7dff6dcfe010000006a47304402206262982bedd498966263e638f8e6cbfd1338f5ec2b16fec6fe452997242a283c022075a0f29c2c55fcd940269ee0bd3d3ae665ef49cb32081a1cf01b6e1af5da925801210337898fd40687218713d855a1cf0a0c0ad3756259f954febdde671bb0aa1a6829ffffffff0200e1f505000000001976a914cd1bf06291d1b6a2d4ed70465802c8e50b39ece588ac420f4b01000000001976a9147fbd685c68ae2f71a36566fd59a3a7752225be8f88ac00000000\n"
     ]
    }
   ],
   "source": [
    "from lib.keys import PrivateKey\n",
    "from lib.spender import Spender, Utxo, Destination\n",
    "\n",
    "# Existing private key, in numeric format\n",
    "private_key = 0x0111111\n",
    "\n",
    "# Transaction hash of the output to be spent, string format\n",
    "utxo_tx_hash = \"fedcf6dfb752deadbb5f5407538e0dfec0c3e14927c3b46592811ba584fabd11\"\n",
    "\n",
    "# The zero based index of the output to be spent\n",
    "utxo_index = 1\n",
    "\n",
    "# The address of the output holding unspent funds\n",
    "utxo_address = \"msAP1h4Bv9mar7hSXM9d27adwHeuvotixB\"\n",
    "\n",
    "# The amount in BTC available in the output\n",
    "utxo_amount_btc = 1.21716322\n",
    "\n",
    "# Recipient of the funds\n",
    "receiver = \"mzDUHce6H8RAyXW8GCioV8UtiYyvA3mEqE\"\n",
    "\n",
    "# Amount to send in BTC\n",
    "amount = 1\n",
    "\n",
    "# Fee in BTC\n",
    "fee = 0.0002\n",
    "\n",
    "# Change address\n",
    "change = \"msAP1h4Bv9mar7hSXM9d27adwHeuvotixB\"\n",
    "\n",
    "pk = PrivateKey(private_key)\n",
    "\n",
    "spender = Spender()\n",
    "\n",
    "utxo = Utxo(utxo_tx_hash, utxo_index, utxo_address, utxo_amount_btc)\n",
    "\n",
    "send_to = Destination(amount, receiver)\n",
    "\n",
    "change = Destination(utxo_amount_btc - amount - fee, change)\n",
    "\n",
    "spender.add_utxos(utxo)\n",
    "spender.add_destinations(send_to, change)\n",
    "\n",
    "spend_tx = spender.create_p2pkh_tx(pk)\n",
    "\n",
    "print(f\"Signed Transaction: {spend_tx.hex()}\")\n"
   ]
  },
  {
   "cell_type": "code",
   "execution_count": null,
   "metadata": {},
   "outputs": [],
   "source": []
  }
 ],
 "metadata": {
  "kernelspec": {
   "display_name": "Python 3",
   "language": "python",
   "name": "python3"
  },
  "language_info": {
   "codemirror_mode": {
    "name": "ipython",
    "version": 3
   },
   "file_extension": ".py",
   "mimetype": "text/x-python",
   "name": "python",
   "nbconvert_exporter": "python",
   "pygments_lexer": "ipython3",
   "version": "3.6.4"
  }
 },
 "nbformat": 4,
 "nbformat_minor": 1
}
