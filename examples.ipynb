{
 "cells": [
  {
   "cell_type": "markdown",
   "metadata": {
    "collapsed": true
   },
   "source": [
    "# Bfs (Bitcoin from scratch) library examples"
   ]
  },
  {
   "cell_type": "markdown",
   "metadata": {},
   "source": [
    "## Create v1 Addresses"
   ]
  },
  {
   "cell_type": "code",
   "execution_count": 1,
   "metadata": {},
   "outputs": [
    {
     "name": "stdout",
     "output_type": "stream",
     "text": [
      "Private Key:  81221031308586535300935999618174157176729696856895761989062332958037127542895\n",
      "Public key: 03612082d7e8f00da00964e89de965f434b0850a6f8df4ea25cdf7f56b47a0ecd0\n",
      "Address (MainNet): 1LcSSVSxxmXdvHCgZeMrWs1kX73gCTiksy\n",
      "Address (TestNet): n18PjYXwmnxthPgJHDLELnE5P6eP7iYaMm\n"
     ]
    }
   ],
   "source": [
    "from lib.commons import Network\n",
    "from lib.keys import PrivateKey\n",
    "\n",
    "# Create a random private key\n",
    "priv_key = PrivateKey()\n",
    "print(\"Private Key: \", priv_key.key)\n",
    "\n",
    "pub_key = priv_key.create_pub_key()\n",
    "print(f\"Public key: {pub_key}\")\n",
    "\n",
    "# Create V1 Address for main net\n",
    "address_main_net = pub_key.get_address_v1(Network.MAIN_NET)\n",
    "print(f\"Address (MainNet): {address_main_net}\")\n",
    "\n",
    "# Create V1 Address for testnet\n",
    "address_test_net = pub_key.get_address_v1(Network.TEST_NET)\n",
    "\n",
    "print(f\"Address (TestNet): {address_test_net}\")"
   ]
  },
  {
   "cell_type": "markdown",
   "metadata": {},
   "source": [
    "# Create Segwit native address (Bech32)"
   ]
  },
  {
   "cell_type": "code",
   "execution_count": 2,
   "metadata": {},
   "outputs": [
    {
     "name": "stdout",
     "output_type": "stream",
     "text": [
      "Private Key:  79663034430220533921206317783352568264896174843859124925413388638025488984709\n",
      "Public key: 0200078b7b3286e4dd47dac825ec587ff069bf18ad8c0f8001c11f1204f8b5c6f8\n",
      "Address (MainNet): bc1qkahs083d5s3f7xxx2fc9fvsxhjhjjzsc0dfv26\n"
     ]
    }
   ],
   "source": [
    "from lib.commons import Network\n",
    "from lib.keys import PrivateKey\n",
    "\n",
    "# Create a random private key\n",
    "priv_key = PrivateKey()\n",
    "print(\"Private Key: \", priv_key.key)\n",
    "\n",
    "pub_key = priv_key.create_pub_key()\n",
    "print(f\"Public key: {pub_key}\")\n",
    "\n",
    "# Create a bech32 Address for main net\n",
    "address_main_net = pub_key.get_segwit_address(Network.MAIN_NET)\n",
    "print(f\"Address (MainNet): {address_main_net}\")\n"
   ]
  },
  {
   "cell_type": "markdown",
   "metadata": {},
   "source": [
    "# Spend P2PKH (Pay to public key hash) output with change:"
   ]
  },
  {
   "cell_type": "code",
   "execution_count": 4,
   "metadata": {},
   "outputs": [
    {
     "name": "stdout",
     "output_type": "stream",
     "text": [
      "Signed Transaction: 010000000111bdfa84a51b819265b4c32749e1c3c0fe0d8e5307545fbbadde52b7dff6dcfe010000006a47304402206262982bedd498966263e638f8e6cbfd1338f5ec2b16fec6fe452997242a283c022075a0f29c2c55fcd940269ee0bd3d3ae665ef49cb32081a1cf01b6e1af5da925801210337898fd40687218713d855a1cf0a0c0ad3756259f954febdde671bb0aa1a6829ffffffff0200e1f505000000001976a914cd1bf06291d1b6a2d4ed70465802c8e50b39ece588ac420f4b01000000001976a9147fbd685c68ae2f71a36566fd59a3a7752225be8f88ac00000000\n"
     ]
    }
   ],
   "source": [
    "from lib.keys import PrivateKey\n",
    "from lib.spender import Spender, Utxo, Destination\n",
    "\n",
    "# Existing private key, in numeric format\n",
    "private_key = 0x0111111\n",
    "\n",
    "# Transaction hash of the output to be spent, string format\n",
    "utxo_tx_hash = \"fedcf6dfb752deadbb5f5407538e0dfec0c3e14927c3b46592811ba584fabd11\"\n",
    "\n",
    "# The zero based index of the output to be spent\n",
    "utxo_index = 1\n",
    "\n",
    "# The address of the output holding unspent funds\n",
    "utxo_address = \"msAP1h4Bv9mar7hSXM9d27adwHeuvotixB\"\n",
    "\n",
    "# The amount in BTC available in the output\n",
    "utxo_amount_btc = 1.21716322\n",
    "\n",
    "# Recipient of the funds\n",
    "receiver = \"mzDUHce6H8RAyXW8GCioV8UtiYyvA3mEqE\"\n",
    "\n",
    "# Amount to send in BTC\n",
    "amount = 1\n",
    "\n",
    "# Fee in BTC\n",
    "fee = 0.0002\n",
    "\n",
    "# Change address\n",
    "change = \"msAP1h4Bv9mar7hSXM9d27adwHeuvotixB\"\n",
    "\n",
    "pk = PrivateKey(private_key)\n",
    "\n",
    "spender = Spender()\n",
    "\n",
    "utxo = Utxo(utxo_tx_hash, utxo_index, utxo_address, utxo_amount_btc)\n",
    "\n",
    "send_to = Destination(amount, receiver)\n",
    "\n",
    "change_to = Destination(utxo_amount_btc - amount - fee, change)\n",
    "\n",
    "spender.add_utxos(utxo)\n",
    "spender.add_destinations(send_to, change_to)\n",
    "\n",
    "spend_tx = spender.create_tx(pk)\n",
    "\n",
    "print(f\"Signed Transaction: {spend_tx.hex()}\")\n"
   ]
  },
  {
   "cell_type": "code",
   "execution_count": 2,
   "metadata": {},
   "outputs": [
    {
     "name": "stdout",
     "output_type": "stream",
     "text": [
      "01000000012fa68428ce40be967ac1dfa220b379e4cf9646e091ba80dbdf1135c57820b7b9000000001600144e48b1ab8f6c7315cc94b124c973f98c0668c738ffffffff016ccaf505000000001976a914f13bdea27f1fdfb164d083dd827ff55eb140d68688ac00000000\n",
      "Signed Transaction: 010000000001012fa68428ce40be967ac1dfa220b379e4cf9646e091ba80dbdf1135c57820b7b90000000000ffffffff016ccaf505000000001976a914f13bdea27f1fdfb164d083dd827ff55eb140d68688ac02483045022100d0bc1f1e274461ee439c490e2cc0d22a43b53bea561b4e84966de09cabdcdda502206d42bc8780fb5ffc0a0a396ce33cfcf0608810daf99f74b9b8f98a93571cd0280121037c32fea2feddc1b8a500ec4ff9b597dc72d237ed205aa395704035172d74a05c00000000\n"
     ]
    }
   ],
   "source": [
    "from lib.keys import PrivateKey\n",
    "from lib.spender import Spender, Utxo, Destination\n",
    "\n",
    "# Existing private key, in numeric format\n",
    "pk = PrivateKey.from_wif(\"cVZiWLak3RfzgFZtLeZ87TKnFwaG1hBgxovNmv9XwmaSSrNLXKp1\")\n",
    "\n",
    "# Transaction hash of the output to be spent, string format\n",
    "utxo_tx_hash = \"b9b72078c53511dfdb80ba91e04696cfe479b320a2dfc17a96be40ce2884a62f\"\n",
    "\n",
    "# The zero based index of the output to be spent\n",
    "utxo_index = 0\n",
    "\n",
    "# The address of the output holding unspent funds\n",
    "utxo_address = \"tb1qfeytr2u0d3e3tny5kyjvjule3srx33eclcx6sy\"\n",
    "\n",
    "# The amount in BTC available in the output\n",
    "utxo_amount_btc = 0.99996220\n",
    "\n",
    "# Recipient of the funds\n",
    "receiver = \"n3WUs6uCpAc1at2u13ZLRQKf8wuqgVdZr4\"\n",
    "\n",
    "# Amount to send in BTC\n",
    "amount = 0.99994220\n",
    "\n",
    "# Fee in BTC\n",
    "fee = 0.00002000\n",
    "\n",
    "spender = Spender()\n",
    "\n",
    "utxo = Utxo(utxo_tx_hash, utxo_index, utxo_address, utxo_amount_btc)\n",
    "\n",
    "send_to = Destination(amount, receiver)\n",
    "\n",
    "spender.add_utxos(utxo)\n",
    "spender.add_destinations(send_to)\n",
    "\n",
    "spend_tx = spender.create_tx(pk)\n",
    "\n",
    "print(f\"Signed Transaction: {spend_tx.hex()}\")"
   ]
  },
  {
   "cell_type": "code",
   "execution_count": null,
   "metadata": {},
   "outputs": [],
   "source": []
  },
  {
   "cell_type": "code",
   "execution_count": null,
   "metadata": {},
   "outputs": [],
   "source": []
  }
 ],
 "metadata": {
  "kernelspec": {
   "display_name": "Python 3",
   "language": "python",
   "name": "python3"
  },
  "language_info": {
   "codemirror_mode": {
    "name": "ipython",
    "version": 3
   },
   "file_extension": ".py",
   "mimetype": "text/x-python",
   "name": "python",
   "nbconvert_exporter": "python",
   "pygments_lexer": "ipython3",
   "version": "3.6.4"
  }
 },
 "nbformat": 4,
 "nbformat_minor": 1
}
